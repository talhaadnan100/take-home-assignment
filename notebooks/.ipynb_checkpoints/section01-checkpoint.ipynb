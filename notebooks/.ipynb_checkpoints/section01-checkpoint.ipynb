{
 "cells": [
  {
   "cell_type": "markdown",
   "metadata": {},
   "source": [
    "# Section 1: Encode English Text to Ciphertext\n",
    "\n",
    "### Time Taken: 1 hr 8 min"
   ]
  },
  {
   "cell_type": "code",
   "execution_count": 1,
   "metadata": {},
   "outputs": [],
   "source": [
    "import math"
   ]
  },
  {
   "cell_type": "code",
   "execution_count": 2,
   "metadata": {},
   "outputs": [],
   "source": [
    "def encode(text):\n",
    "    \"\"\"\n",
    "    Given a English text, the function encodes it into ciphertext\n",
    "    \n",
    "    Keyword:\n",
    "        text (str) English Text\n",
    "        \n",
    "    Return:\n",
    "        Ciphertext in str format\n",
    "    \"\"\"\n",
    "    text = text.replace(' ','').lower()\n",
    "    size = math.ceil(len(text)**(1/2))\n",
    "    \n",
    "    assert size * size >= len(text)\n",
    "    \n",
    "    answer = ''\n",
    "    for l in range(size):\n",
    "        for ind in [i for i in range(l,len(text),size)]:\n",
    "            answer += text[ind]\n",
    "        answer += ' '\n",
    "    return answer[:-1]"
   ]
  },
  {
   "cell_type": "code",
   "execution_count": 3,
   "metadata": {},
   "outputs": [],
   "source": [
    "encode('On a scale from one to ten what is your favourite colour of the alphabet')"
   ]
  },
  {
   "cell_type": "code",
   "execution_count": 4,
   "metadata": {},
   "outputs": [
    {
     "data": {
      "text/plain": [
       "'latt odri oiao kscn'"
      ]
     },
     "execution_count": 4,
     "metadata": {},
     "output_type": "execute_result"
    }
   ],
   "source": [
    "encode('lookadistraction')"
   ]
  },
  {
   "cell_type": "code",
   "execution_count": 5,
   "metadata": {},
   "outputs": [
    {
     "data": {
      "text/plain": [
       "'bnr aao ner ar'"
      ]
     },
     "execution_count": 5,
     "metadata": {},
     "output_type": "execute_result"
    }
   ],
   "source": [
    "encode('bananaerror')"
   ]
  },
  {
   "cell_type": "code",
   "execution_count": 6,
   "metadata": {},
   "outputs": [
    {
     "data": {
      "text/plain": [
       "'clu hlt io'"
      ]
     },
     "execution_count": 6,
     "metadata": {},
     "output_type": "execute_result"
    }
   ],
   "source": [
    "encode('chillout')"
   ]
  },
  {
   "cell_type": "markdown",
   "metadata": {},
   "source": [
    "## Resources Used\n",
    "\n",
    "Numpy Array documentation https://docs.scipy.org/doc/numpy/reference/generated/numpy.array.html\n",
    "\n",
    "Python String splitting https://stackoverflow.com/questions/13673060/split-string-into-strings-by-length\n",
    "\n",
    "Getting Nth element of list of list https://stackoverflow.com/questions/13188476/get-the-nth-element-from-the-inner-list-of-a-list-of-lists-in-python\n",
    "\n",
    "Rounding Up in Python https://stackoverflow.com/questions/2356501/how-do-you-round-up-a-number-in-python"
   ]
  }
 ],
 "metadata": {
  "kernelspec": {
   "display_name": "Python 3",
   "language": "python",
   "name": "python3"
  },
  "language_info": {
   "codemirror_mode": {
    "name": "ipython",
    "version": 3
   },
   "file_extension": ".py",
   "mimetype": "text/x-python",
   "name": "python",
   "nbconvert_exporter": "python",
   "pygments_lexer": "ipython3",
   "version": "3.6.8"
  }
 },
 "nbformat": 4,
 "nbformat_minor": 2
}
